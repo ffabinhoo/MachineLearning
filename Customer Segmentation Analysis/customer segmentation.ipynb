{
 "cells": [
  {
   "cell_type": "code",
   "execution_count": 1,
   "metadata": {},
   "outputs": [],
   "source": [
    "import pandas as pd\n",
    "import datetime as dt"
   ]
  },
  {
   "cell_type": "code",
   "execution_count": 2,
   "metadata": {},
   "outputs": [],
   "source": [
    "online = pd.read_csv(\"../Files/online.csv\")"
   ]
  },
  {
   "cell_type": "code",
   "execution_count": 3,
   "metadata": {},
   "outputs": [],
   "source": [
    "online.dtypes\n",
    "online.InvoiceDate = pd.to_datetime(online.InvoiceDate)"
   ]
  },
  {
   "cell_type": "code",
   "execution_count": 4,
   "metadata": {},
   "outputs": [],
   "source": [
    "def get_day(x): return dt.datetime(x.year, x.month, x.day) "
   ]
  },
  {
   "cell_type": "code",
   "execution_count": 5,
   "metadata": {},
   "outputs": [],
   "source": [
    "# Create InvoiceDay column\n",
    "online['InvoiceDay'] = online['InvoiceDate'].apply(get_day) "
   ]
  },
  {
   "cell_type": "code",
   "execution_count": 6,
   "metadata": {},
   "outputs": [],
   "source": [
    "# Group by CustomerID and select the InvoiceDay value\n",
    "grouping = online.groupby('CustomerID')['InvoiceDay'] "
   ]
  },
  {
   "cell_type": "code",
   "execution_count": 7,
   "metadata": {},
   "outputs": [],
   "source": [
    "# Assign a minimum InvoiceDay value to the dataset\n",
    "online['CohortDay'] = grouping.transform('min')"
   ]
  },
  {
   "cell_type": "code",
   "execution_count": 8,
   "metadata": {},
   "outputs": [
    {
     "data": {
      "text/html": [
       "<div>\n",
       "<style scoped>\n",
       "    .dataframe tbody tr th:only-of-type {\n",
       "        vertical-align: middle;\n",
       "    }\n",
       "\n",
       "    .dataframe tbody tr th {\n",
       "        vertical-align: top;\n",
       "    }\n",
       "\n",
       "    .dataframe thead th {\n",
       "        text-align: right;\n",
       "    }\n",
       "</style>\n",
       "<table border=\"1\" class=\"dataframe\">\n",
       "  <thead>\n",
       "    <tr style=\"text-align: right;\">\n",
       "      <th></th>\n",
       "      <th>Unnamed: 0</th>\n",
       "      <th>InvoiceNo</th>\n",
       "      <th>StockCode</th>\n",
       "      <th>Description</th>\n",
       "      <th>Quantity</th>\n",
       "      <th>InvoiceDate</th>\n",
       "      <th>UnitPrice</th>\n",
       "      <th>CustomerID</th>\n",
       "      <th>Country</th>\n",
       "      <th>InvoiceDay</th>\n",
       "      <th>CohortDay</th>\n",
       "    </tr>\n",
       "  </thead>\n",
       "  <tbody>\n",
       "    <tr>\n",
       "      <th>0</th>\n",
       "      <td>416792</td>\n",
       "      <td>572558</td>\n",
       "      <td>22745</td>\n",
       "      <td>POPPY'S PLAYHOUSE BEDROOM</td>\n",
       "      <td>6</td>\n",
       "      <td>2011-10-25 08:26:00</td>\n",
       "      <td>2.10</td>\n",
       "      <td>14286</td>\n",
       "      <td>United Kingdom</td>\n",
       "      <td>2011-10-25</td>\n",
       "      <td>2011-04-11</td>\n",
       "    </tr>\n",
       "    <tr>\n",
       "      <th>1</th>\n",
       "      <td>482904</td>\n",
       "      <td>577485</td>\n",
       "      <td>23196</td>\n",
       "      <td>VINTAGE LEAF MAGNETIC NOTEPAD</td>\n",
       "      <td>1</td>\n",
       "      <td>2011-11-20 11:56:00</td>\n",
       "      <td>1.45</td>\n",
       "      <td>16360</td>\n",
       "      <td>United Kingdom</td>\n",
       "      <td>2011-11-20</td>\n",
       "      <td>2011-09-12</td>\n",
       "    </tr>\n",
       "    <tr>\n",
       "      <th>2</th>\n",
       "      <td>263743</td>\n",
       "      <td>560034</td>\n",
       "      <td>23299</td>\n",
       "      <td>FOOD COVER WITH BEADS SET 2</td>\n",
       "      <td>6</td>\n",
       "      <td>2011-07-14 13:35:00</td>\n",
       "      <td>3.75</td>\n",
       "      <td>13933</td>\n",
       "      <td>United Kingdom</td>\n",
       "      <td>2011-07-14</td>\n",
       "      <td>2011-07-14</td>\n",
       "    </tr>\n",
       "    <tr>\n",
       "      <th>3</th>\n",
       "      <td>495549</td>\n",
       "      <td>578307</td>\n",
       "      <td>72349B</td>\n",
       "      <td>SET/6 PURPLE BUTTERFLY T-LIGHTS</td>\n",
       "      <td>1</td>\n",
       "      <td>2011-11-23 15:53:00</td>\n",
       "      <td>2.10</td>\n",
       "      <td>17290</td>\n",
       "      <td>United Kingdom</td>\n",
       "      <td>2011-11-23</td>\n",
       "      <td>2011-11-23</td>\n",
       "    </tr>\n",
       "    <tr>\n",
       "      <th>4</th>\n",
       "      <td>204384</td>\n",
       "      <td>554656</td>\n",
       "      <td>21756</td>\n",
       "      <td>BATH BUILDING BLOCK WORD</td>\n",
       "      <td>3</td>\n",
       "      <td>2011-05-25 13:36:00</td>\n",
       "      <td>5.95</td>\n",
       "      <td>17663</td>\n",
       "      <td>United Kingdom</td>\n",
       "      <td>2011-05-25</td>\n",
       "      <td>2011-02-25</td>\n",
       "    </tr>\n",
       "  </tbody>\n",
       "</table>\n",
       "</div>"
      ],
      "text/plain": [
       "   Unnamed: 0  InvoiceNo StockCode                      Description  Quantity  \\\n",
       "0      416792     572558     22745       POPPY'S PLAYHOUSE BEDROOM          6   \n",
       "1      482904     577485     23196    VINTAGE LEAF MAGNETIC NOTEPAD         1   \n",
       "2      263743     560034     23299     FOOD COVER WITH BEADS SET 2          6   \n",
       "3      495549     578307    72349B  SET/6 PURPLE BUTTERFLY T-LIGHTS         1   \n",
       "4      204384     554656     21756         BATH BUILDING BLOCK WORD         3   \n",
       "\n",
       "          InvoiceDate  UnitPrice  CustomerID         Country InvoiceDay  \\\n",
       "0 2011-10-25 08:26:00       2.10       14286  United Kingdom 2011-10-25   \n",
       "1 2011-11-20 11:56:00       1.45       16360  United Kingdom 2011-11-20   \n",
       "2 2011-07-14 13:35:00       3.75       13933  United Kingdom 2011-07-14   \n",
       "3 2011-11-23 15:53:00       2.10       17290  United Kingdom 2011-11-23   \n",
       "4 2011-05-25 13:36:00       5.95       17663  United Kingdom 2011-05-25   \n",
       "\n",
       "   CohortDay  \n",
       "0 2011-04-11  \n",
       "1 2011-09-12  \n",
       "2 2011-07-14  \n",
       "3 2011-11-23  \n",
       "4 2011-02-25  "
      ]
     },
     "execution_count": 8,
     "metadata": {},
     "output_type": "execute_result"
    }
   ],
   "source": [
    "online.head()"
   ]
  },
  {
   "cell_type": "code",
   "execution_count": 10,
   "metadata": {},
   "outputs": [],
   "source": [
    "def get_date_int(df, column):\n",
    "    year = df[column].dt.year\n",
    "    month = df[column].dt.month\n",
    "    day = df[column].dt.day\n",
    "    return year, month, day"
   ]
  },
  {
   "cell_type": "code",
   "execution_count": 11,
   "metadata": {},
   "outputs": [],
   "source": [
    "# Get the integers for date parts from the InvoiceDaycolumn\n",
    "invoice_year, invoice_month, invoice_day = get_date_int(online, 'InvoiceDay')\n",
    "\n",
    "# Get the integers for date parts from the CohortDay column\n",
    "cohort_year, cohort_month, cohort_day = get_date_int(online, 'CohortDay')"
   ]
  },
  {
   "cell_type": "code",
   "execution_count": 12,
   "metadata": {},
   "outputs": [],
   "source": [
    "# Calculate difference in years\n",
    "years_diff = invoice_year - cohort_year\n",
    "\n",
    "# Calculate difference in months\n",
    "months_diff = invoice_month - cohort_month\n",
    "\n",
    "# Calculate difference in days\n",
    "days_diff = invoice_day - cohort_day\n",
    "\n",
    "# Extract the difference in days from all previous values\n",
    "online['CohortIndex'] = years_diff * 365 + months_diff * 30 + days_diff + 1\n"
   ]
  },
  {
   "cell_type": "code",
   "execution_count": 14,
   "metadata": {},
   "outputs": [
    {
     "data": {
      "text/html": [
       "<div>\n",
       "<style scoped>\n",
       "    .dataframe tbody tr th:only-of-type {\n",
       "        vertical-align: middle;\n",
       "    }\n",
       "\n",
       "    .dataframe tbody tr th {\n",
       "        vertical-align: top;\n",
       "    }\n",
       "\n",
       "    .dataframe thead th {\n",
       "        text-align: right;\n",
       "    }\n",
       "</style>\n",
       "<table border=\"1\" class=\"dataframe\">\n",
       "  <thead>\n",
       "    <tr style=\"text-align: right;\">\n",
       "      <th></th>\n",
       "      <th>Unnamed: 0</th>\n",
       "      <th>InvoiceNo</th>\n",
       "      <th>StockCode</th>\n",
       "      <th>Description</th>\n",
       "      <th>Quantity</th>\n",
       "      <th>InvoiceDate</th>\n",
       "      <th>UnitPrice</th>\n",
       "      <th>CustomerID</th>\n",
       "      <th>Country</th>\n",
       "      <th>InvoiceDay</th>\n",
       "      <th>CohortDay</th>\n",
       "      <th>CohortIndex</th>\n",
       "    </tr>\n",
       "  </thead>\n",
       "  <tbody>\n",
       "    <tr>\n",
       "      <th>70859</th>\n",
       "      <td>448575</td>\n",
       "      <td>575063</td>\n",
       "      <td>22804</td>\n",
       "      <td>PINK HANGING HEART T-LIGHT HOLDER</td>\n",
       "      <td>1</td>\n",
       "      <td>2011-11-08 12:32:00</td>\n",
       "      <td>2.95</td>\n",
       "      <td>16764</td>\n",
       "      <td>United Kingdom</td>\n",
       "      <td>2011-11-08</td>\n",
       "      <td>2011-07-19</td>\n",
       "      <td>110</td>\n",
       "    </tr>\n",
       "    <tr>\n",
       "      <th>70860</th>\n",
       "      <td>19970</td>\n",
       "      <td>537963</td>\n",
       "      <td>21733</td>\n",
       "      <td>RED HANGING HEART T-LIGHT HOLDER</td>\n",
       "      <td>12</td>\n",
       "      <td>2010-12-09 11:30:00</td>\n",
       "      <td>2.95</td>\n",
       "      <td>13369</td>\n",
       "      <td>United Kingdom</td>\n",
       "      <td>2010-12-09</td>\n",
       "      <td>2010-12-09</td>\n",
       "      <td>1</td>\n",
       "    </tr>\n",
       "    <tr>\n",
       "      <th>70861</th>\n",
       "      <td>264154</td>\n",
       "      <td>560089</td>\n",
       "      <td>23238</td>\n",
       "      <td>SET OF 4 KNICK KNACK TINS LONDON</td>\n",
       "      <td>1</td>\n",
       "      <td>2011-07-14 16:45:00</td>\n",
       "      <td>4.15</td>\n",
       "      <td>12748</td>\n",
       "      <td>United Kingdom</td>\n",
       "      <td>2011-07-14</td>\n",
       "      <td>2010-12-05</td>\n",
       "      <td>225</td>\n",
       "    </tr>\n",
       "    <tr>\n",
       "      <th>70862</th>\n",
       "      <td>199822</td>\n",
       "      <td>554103</td>\n",
       "      <td>85123A</td>\n",
       "      <td>WHITE HANGING HEART T-LIGHT HOLDER</td>\n",
       "      <td>2</td>\n",
       "      <td>2011-05-22 13:51:00</td>\n",
       "      <td>2.95</td>\n",
       "      <td>15555</td>\n",
       "      <td>United Kingdom</td>\n",
       "      <td>2011-05-22</td>\n",
       "      <td>2010-12-05</td>\n",
       "      <td>173</td>\n",
       "    </tr>\n",
       "    <tr>\n",
       "      <th>70863</th>\n",
       "      <td>312243</td>\n",
       "      <td>564342</td>\n",
       "      <td>22910</td>\n",
       "      <td>PAPER CHAIN KIT VINTAGE CHRISTMAS</td>\n",
       "      <td>2</td>\n",
       "      <td>2011-08-24 14:53:00</td>\n",
       "      <td>2.95</td>\n",
       "      <td>16340</td>\n",
       "      <td>United Kingdom</td>\n",
       "      <td>2011-08-24</td>\n",
       "      <td>2011-08-24</td>\n",
       "      <td>1</td>\n",
       "    </tr>\n",
       "  </tbody>\n",
       "</table>\n",
       "</div>"
      ],
      "text/plain": [
       "       Unnamed: 0  InvoiceNo StockCode                         Description  \\\n",
       "70859      448575     575063     22804   PINK HANGING HEART T-LIGHT HOLDER   \n",
       "70860       19970     537963     21733    RED HANGING HEART T-LIGHT HOLDER   \n",
       "70861      264154     560089     23238   SET OF 4 KNICK KNACK TINS LONDON    \n",
       "70862      199822     554103    85123A  WHITE HANGING HEART T-LIGHT HOLDER   \n",
       "70863      312243     564342     22910   PAPER CHAIN KIT VINTAGE CHRISTMAS   \n",
       "\n",
       "       Quantity         InvoiceDate  UnitPrice  CustomerID         Country  \\\n",
       "70859         1 2011-11-08 12:32:00       2.95       16764  United Kingdom   \n",
       "70860        12 2010-12-09 11:30:00       2.95       13369  United Kingdom   \n",
       "70861         1 2011-07-14 16:45:00       4.15       12748  United Kingdom   \n",
       "70862         2 2011-05-22 13:51:00       2.95       15555  United Kingdom   \n",
       "70863         2 2011-08-24 14:53:00       2.95       16340  United Kingdom   \n",
       "\n",
       "      InvoiceDay  CohortDay  CohortIndex  \n",
       "70859 2011-11-08 2011-07-19          110  \n",
       "70860 2010-12-09 2010-12-09            1  \n",
       "70861 2011-07-14 2010-12-05          225  \n",
       "70862 2011-05-22 2010-12-05          173  \n",
       "70863 2011-08-24 2011-08-24            1  "
      ]
     },
     "execution_count": 14,
     "metadata": {},
     "output_type": "execute_result"
    }
   ],
   "source": [
    "online.tail()"
   ]
  },
  {
   "cell_type": "code",
   "execution_count": 15,
   "metadata": {},
   "outputs": [
    {
     "data": {
      "text/plain": [
       "0        14\n",
       "1         8\n",
       "2         0\n",
       "3         0\n",
       "4         0\n",
       "         ..\n",
       "70859   -11\n",
       "70860     0\n",
       "70861     9\n",
       "70862    17\n",
       "70863     0\n",
       "Length: 70864, dtype: int64"
      ]
     },
     "execution_count": 15,
     "metadata": {},
     "output_type": "execute_result"
    }
   ],
   "source": [
    "days_diff"
   ]
  },
  {
   "cell_type": "code",
   "execution_count": null,
   "metadata": {},
   "outputs": [],
   "source": []
  }
 ],
 "metadata": {
  "kernelspec": {
   "display_name": "Python 3",
   "language": "python",
   "name": "python3"
  },
  "language_info": {
   "codemirror_mode": {
    "name": "ipython",
    "version": 3
   },
   "file_extension": ".py",
   "mimetype": "text/x-python",
   "name": "python",
   "nbconvert_exporter": "python",
   "pygments_lexer": "ipython3",
   "version": "3.7.6"
  }
 },
 "nbformat": 4,
 "nbformat_minor": 4
}
